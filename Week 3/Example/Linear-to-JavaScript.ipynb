#@title Licensed under the Apache License, Version 2.0 (the "License");
# you may not use this file except in compliance with the License.
# You may obtain a copy of the License at
#
# https://www.apache.org/licenses/LICENSE-2.0
#
# Unless required by applicable law or agreed to in writing, software
# distributed under the License is distributed on an "AS IS" BASIS,
# WITHOUT WARRANTIES OR CONDITIONS OF ANY KIND, either express or implied.
# See the License for the specific language governing permissions and
# limitations under the License.


!pip install tensorflowjs


import numpy as np
import tensorflow as tf

print('\u2022 Using TensorFlow Version:', tf.__version__)


model = tf.keras.models.Sequential([
        tf.keras.layers.Dense(units=1, input_shape=[1])  
])

model.compile(optimizer='sgd', loss='mean_squared_error')

xs = np.array([-1.0,  0.0, 1.0, 2.0, 3.0, 4.0], dtype=float)
ys = np.array([-3.0, -1.0, 1.0, 3.0, 5.0, 7.0], dtype=float)

model.fit(xs, ys, epochs=500)

print(model.predict([10.0]))


import time
saved_model_path = "./{}.h5".format(int(time.time()))

model.save(saved_model_path)

!tensorflowjs_converter --input_format=keras {saved_model_path} ./
